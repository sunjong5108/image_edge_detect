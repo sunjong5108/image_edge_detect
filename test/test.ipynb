{
 "cells": [
  {
   "cell_type": "code",
   "execution_count": 1,
   "source": [
    "import numpy as np"
   ],
   "outputs": [],
   "metadata": {}
  },
  {
   "cell_type": "code",
   "execution_count": 2,
   "source": [
    "A = np.array([[2, 3, 5, 4, 6], \r\n",
    "              [4, 5, 7, 7, 7], \r\n",
    "              [6, 6, 4, 3, 2],\r\n",
    "              [3, 4, 3, 1, 1]\r\n",
    "            ])\r\n",
    "window = np.ones((3, 3))\r\n",
    "padding_image = np.zeros((\r\n",
    "                    A.shape[0] + 2*1,\r\n",
    "                    A.shape[1] + 2*1\r\n",
    "                ))\r\n",
    "\r\n",
    "for i in range(A.shape[0]):\r\n",
    "    for j in range(A.shape[1]):\r\n",
    "        padding_image[i + 1, j + 1] = A[i][j]\r\n",
    "\r\n",
    "print(padding_image)\r\n",
    "conv_height_size = int(((A.shape[0] + (2*1) - 3) / 1) + 1)\r\n",
    "conv_width_size = int(((A.shape[1] + (2*1) - 3) / 1) + 1)\r\n",
    "\r\n",
    "result_image = np.zeros((conv_height_size, conv_width_size))\r\n",
    "for i in range(conv_height_size):\r\n",
    "    for j in range(conv_width_size):\r\n",
    "        if A[i][j] < np.max(padding_image[i:i+3, j:j+3] * window):\r\n",
    "           #A[i][j] = 0\r\n",
    "            result_image[i, j] = 0\r\n",
    "        else:   \r\n",
    "            result_image[i, j] = A[i][j]\r\n",
    "\r\n",
    "print(result_image)"
   ],
   "outputs": [
    {
     "output_type": "stream",
     "name": "stdout",
     "text": [
      "[[0. 0. 0. 0. 0. 0. 0.]\n",
      " [0. 2. 3. 5. 4. 6. 0.]\n",
      " [0. 4. 5. 7. 7. 7. 0.]\n",
      " [0. 6. 6. 4. 3. 2. 0.]\n",
      " [0. 3. 4. 3. 1. 1. 0.]\n",
      " [0. 0. 0. 0. 0. 0. 0.]]\n",
      "[[0. 0. 0. 0. 0.]\n",
      " [0. 0. 7. 7. 7.]\n",
      " [6. 0. 0. 0. 0.]\n",
      " [0. 0. 0. 0. 0.]]\n"
     ]
    }
   ],
   "metadata": {}
  },
  {
   "cell_type": "code",
   "execution_count": 3,
   "source": [
    "padding_result_image = np.zeros((\r\n",
    "                        result_image.shape[0] + 2*1,\r\n",
    "                        result_image.shape[1] + 2*1\r\n",
    "                    ))\r\n",
    "\r\n",
    "window = np.ones((3, 3))\r\n",
    "\r\n",
    "for i in range(A.shape[0]):\r\n",
    "    for j in range(A.shape[1]):\r\n",
    "        padding_result_image[i + 1, j + 1] = result_image[i][j]\r\n",
    "\r\n",
    "print(padding_result_image)"
   ],
   "outputs": [
    {
     "output_type": "stream",
     "name": "stdout",
     "text": [
      "[[0. 0. 0. 0. 0. 0. 0.]\n",
      " [0. 0. 0. 0. 0. 0. 0.]\n",
      " [0. 0. 0. 7. 7. 7. 0.]\n",
      " [0. 6. 0. 0. 0. 0. 0.]\n",
      " [0. 0. 0. 0. 0. 0. 0.]\n",
      " [0. 0. 0. 0. 0. 0. 0.]]\n"
     ]
    }
   ],
   "metadata": {}
  },
  {
   "cell_type": "code",
   "execution_count": 4,
   "source": [
    "def ApplyGaussianFilter(window_size):\r\n",
    "    GaussianFilter = np.zeros((window_size, window_size))\r\n",
    "    m = 0\r\n",
    "    for row in range(-1, 2):\r\n",
    "        for col in range(-1, 2):\r\n",
    "            GaussianFilter[row + 1][col + 1] = np.exp(-(row**2 + col**2) / 2 * 0.0001)\r\n",
    "            m += GaussianFilter[row + 1][col + 1]\r\n",
    "\r\n",
    "    return GaussianFilter/m"
   ],
   "outputs": [],
   "metadata": {}
  },
  {
   "cell_type": "code",
   "execution_count": 5,
   "source": [
    "GaussianFilter = ApplyGaussianFilter(3)"
   ],
   "outputs": [],
   "metadata": {}
  },
  {
   "cell_type": "code",
   "execution_count": 6,
   "source": [
    "GaussianFilter"
   ],
   "outputs": [
    {
     "output_type": "execute_result",
     "data": {
      "text/plain": [
       "array([[0.11110741, 0.11111296, 0.11110741],\n",
       "       [0.11111296, 0.11111852, 0.11111296],\n",
       "       [0.11110741, 0.11111296, 0.11110741]])"
      ]
     },
     "metadata": {},
     "execution_count": 6
    }
   ],
   "metadata": {}
  },
  {
   "cell_type": "code",
   "execution_count": 7,
   "source": [
    "def GaussianFilter2D(window_size, sigma):\r\n",
    "        GaussianFilter = np.zeros((window_size, window_size))\r\n",
    "        m = 0\r\n",
    "        for row in range(-(window_size // 2), (window_size // 2) + 1):\r\n",
    "            for col in range(-(window_size // 2), (window_size // 2) + 1):\r\n",
    "                GaussianFilter[row + 1][col + 1] = (1 / (2 * np.pi * sigma**2)) * (np.exp(-(row**2 + col**2) / (2 * (sigma**2))))\r\n",
    "                m += GaussianFilter[row + 1][col + 1]\r\n",
    "\r\n",
    "        return GaussianFilter / m"
   ],
   "outputs": [],
   "metadata": {}
  },
  {
   "cell_type": "code",
   "execution_count": 8,
   "source": [
    "GaussianFilter2D(3, 1)"
   ],
   "outputs": [
    {
     "output_type": "execute_result",
     "data": {
      "text/plain": [
       "array([[0.07511361, 0.1238414 , 0.07511361],\n",
       "       [0.1238414 , 0.20417996, 0.1238414 ],\n",
       "       [0.07511361, 0.1238414 , 0.07511361]])"
      ]
     },
     "metadata": {},
     "execution_count": 8
    }
   ],
   "metadata": {}
  },
  {
   "cell_type": "code",
   "execution_count": 9,
   "source": [
    "import matplotlib.pyplot as plt"
   ],
   "outputs": [],
   "metadata": {}
  },
  {
   "cell_type": "code",
   "execution_count": 10,
   "source": [
    "sigma = 5\r\n",
    "x = np.arange(-10, 10, 0.01)\r\n",
    "title = 'Gaussian, ' + 'sigma = ' + str(sigma) + ', Mean = 0' \r\n",
    "result = []\r\n",
    "for i in x:\r\n",
    "    y = (1 / (2 * np.pi * sigma**2)) * (np.exp(-(i**2) / (2 * (sigma**2))))\r\n",
    "    result.append(y)\r\n"
   ],
   "outputs": [],
   "metadata": {}
  },
  {
   "cell_type": "code",
   "execution_count": 11,
   "source": [
    "plt.title(title)\r\n",
    "plt.plot(x, result)\r\n",
    "plt.xlabel('x')\r\n",
    "plt.ylabel('f(x)')"
   ],
   "outputs": [
    {
     "output_type": "execute_result",
     "data": {
      "text/plain": [
       "Text(0, 0.5, 'f(x)')"
      ]
     },
     "metadata": {},
     "execution_count": 11
    },
    {
     "output_type": "display_data",
     "data": {
      "image/png": "[encoded data removed]",
      "text/plain": [
       "<Figure size 432x288 with 1 Axes>"
      ]
     },
     "metadata": {
      "needs_background": "light"
     }
    }
   ],
   "metadata": {}
  },
  {
   "cell_type": "code",
   "execution_count": 12,
   "source": [
    "def SobelFilter2D(window_size, sigma):\r\n",
    "        SobelFilter_x = np.zeros((window_size, window_size))\r\n",
    "        SobelFilter_y = np.zeros((window_size, window_size))\r\n",
    "        \r\n",
    "        for row in range(-(window_size // 2), (window_size // 2) + 1):\r\n",
    "            for col in range(-(window_size // 2), (window_size // 2) + 1):\r\n",
    "                SobelFilter_x[row + 1][col + 1] = (-row / (2 * np.pi * sigma**4)) * (np.exp(-(row**2 + col**2) / (2 * (sigma**2))))\r\n",
    "                SobelFilter_y[row + 1][col + 1] = (-col / (2 * np.pi * sigma**4)) * (np.exp(-(row**2 + col**2) / (2 * (sigma**2))))\r\n",
    "\r\n",
    "        return SobelFilter_x, SobelFilter_y\r\n"
   ],
   "outputs": [],
   "metadata": {}
  },
  {
   "cell_type": "code",
   "execution_count": 13,
   "source": [
    "SobelFilter_x, SobelFilter_y = SobelFilter2D(3, 1)"
   ],
   "outputs": [],
   "metadata": {}
  },
  {
   "cell_type": "code",
   "execution_count": 14,
   "source": [
    "SobelFilter_x"
   ],
   "outputs": [
    {
     "output_type": "execute_result",
     "data": {
      "text/plain": [
       "array([[ 0.05854983,  0.09653235,  0.05854983],\n",
       "       [ 0.        ,  0.        ,  0.        ],\n",
       "       [-0.05854983, -0.09653235, -0.05854983]])"
      ]
     },
     "metadata": {},
     "execution_count": 14
    }
   ],
   "metadata": {}
  },
  {
   "cell_type": "code",
   "execution_count": 15,
   "source": [
    "SobelFilter_y"
   ],
   "outputs": [
    {
     "output_type": "execute_result",
     "data": {
      "text/plain": [
       "array([[ 0.05854983,  0.        , -0.05854983],\n",
       "       [ 0.09653235,  0.        , -0.09653235],\n",
       "       [ 0.05854983,  0.        , -0.05854983]])"
      ]
     },
     "metadata": {},
     "execution_count": 15
    }
   ],
   "metadata": {}
  },
  {
   "cell_type": "code",
   "execution_count": 16,
   "source": [
    "'''\r\n",
    "def Histogram(self, image):\r\n",
    "    Gaussian_filtered_image = self.ApplyGaussianFilter(image, 1)\r\n",
    "    filtered_image, EdgeNormal = self.ApplySobelFilter(Gaussian_filtered_image, 1)\r\n",
    "    NMS_image = self.NonMaximalSuppresion(filtered_image, EdgeNormal)\r\n",
    "    pixel_array = np.zeros((256,), dtype=np.uint8)\r\n",
    "    count_val = np.zeros((256,), dtype=np.uint8)\r\n",
    "\r\n",
    "    for i in range(len(pixel_array)):\r\n",
    "        pixel_array[i] = i\r\n",
    "        \r\n",
    "    for row in range(NMS_image.shape[0]):\r\n",
    "        for col in range(NMS_image.shape[1]):\r\n",
    "            for i in range(len(pixel_array)):\r\n",
    "                if pixel_array[i] == NMS_image[row][col]:\r\n",
    "                    count_val[i] += 1\r\n",
    "\r\n",
    "    hist = np.zeros((np.max(count_val), 256), dtype=np.uint8)\r\n",
    "    for i in range(len(pixel_array)):\r\n",
    "        c = 0\r\n",
    "        for j in range(np.max(count_val)):\r\n",
    "            if count_val[i] >= c:\r\n",
    "                hist[np.max(count_val) - 1 - j, i] = 255\r\n",
    "            c += 1\r\n",
    "\r\n",
    "    hist = resize(hist, (256, 256))\r\n",
    "\r\n",
    "    plt.title('histogram')\r\n",
    "    plt.imshow(hist, cmap='gray')\r\n",
    "    plt.show()\r\n",
    "\r\n",
    "    return hist\r\n",
    "'''"
   ],
   "outputs": [
    {
     "output_type": "execute_result",
     "data": {
      "text/plain": [
       "\"\\ndef Histogram(self, image):\\n    Gaussian_filtered_image = self.ApplyGaussianFilter(image, 1)\\n    filtered_image, EdgeNormal = self.ApplySobelFilter(Gaussian_filtered_image, 1)\\n    NMS_image = self.NonMaximalSuppresion(filtered_image, EdgeNormal)\\n    pixel_array = np.zeros((256,), dtype=np.uint8)\\n    count_val = np.zeros((256,), dtype=np.uint8)\\n\\n    for i in range(len(pixel_array)):\\n        pixel_array[i] = i\\n        \\n    for row in range(NMS_image.shape[0]):\\n        for col in range(NMS_image.shape[1]):\\n            for i in range(len(pixel_array)):\\n                if pixel_array[i] == NMS_image[row][col]:\\n                    count_val[i] += 1\\n\\n    hist = np.zeros((np.max(count_val), 256), dtype=np.uint8)\\n    for i in range(len(pixel_array)):\\n        c = 0\\n        for j in range(np.max(count_val)):\\n            if count_val[i] >= c:\\n                hist[np.max(count_val) - 1 - j, i] = 255\\n            c += 1\\n\\n    hist = resize(hist, (256, 256))\\n\\n    plt.title('histogram')\\n    plt.imshow(hist, cmap='gray')\\n    plt.show()\\n\\n    return hist\\n\""
      ]
     },
     "metadata": {},
     "execution_count": 16
    }
   ],
   "metadata": {}
  },
  {
   "cell_type": "code",
   "execution_count": null,
   "source": [
    "# h, w = Final_result_image1.shape[:2]\r\n",
    "# filled_from_bottom = np.zeros((h, w))\r\n",
    "\r\n",
    "# for col in range(w):\r\n",
    "#     for row in reversed(range(h)):\r\n",
    "#         if Final_result_image1[row][col] < 255: filled_from_bottom[row][col] = 255 # 아래 위\r\n",
    "#         else: break\r\n",
    "\r\n",
    "# for row in range(h):\r\n",
    "#     for col in range(w):\r\n",
    "#         if Final_result_image1[row][col] < 255: filled_from_bottom[row][col] = 255 # 왼 오\r\n",
    "#         else: break\r\n",
    "\r\n",
    "# for row in range(h):\r\n",
    "#     for col in reversed(range(w)):\r\n",
    "#         if Final_result_image1[row][col] < 255: filled_from_bottom[row][col] = 255 # 오 왼\r\n",
    "#         else: break\r\n",
    "\r\n",
    "# for col in reversed(range(w)):\r\n",
    "#     for row in range(h):\r\n",
    "#         if Final_result_image1[row][col] < 255: filled_from_bottom[row][col] = 255 # 위 아래\r\n",
    "#         else: break\r\n",
    "# for row in range(h):\r\n",
    "#     for col in range(w):\r\n",
    "#         if filled_from_bottom[row][col] == 0:\r\n",
    "#             filled_from_bottom[row, col] = 255\r\n",
    "#         else:\r\n",
    "#             filled_from_bottom[row, col] = 0"
   ],
   "outputs": [],
   "metadata": {}
  },
  {
   "cell_type": "code",
   "execution_count": null,
   "source": [
    "# B=[]\r\n",
    "# starting_pixel = list(zip(*np.where(closed_image == 255))) \r\n",
    "# B_x = starting_pixel[0][0]\r\n",
    "# B_y = starting_pixel[0][1]\r\n",
    "# B.append(starting_pixel[0])\r\n",
    "\r\n",
    "# b_x = starting_pixel[0][0]\r\n",
    "# b_y = starting_pixel[0][1]-1\r\n",
    "\r\n",
    "# d_x = b_x - B_x\r\n",
    "# d_y = b_y - B_y\r\n",
    "\r\n",
    "# offsetTable = [(0,0),(0,-1),(-1,-1),(-1,0),(-1,1),(0,1),(1,1),(1,0),(1,-1)]\r\n",
    "# count = 1\r\n",
    "# contour = np.zeros((original_color_image2.shape), dtype=np.uint8)\r\n",
    "# while(count<=2):\r\n",
    "#     id=0\r\n",
    "#     for i in range(9):\r\n",
    "#         if(d_x == offsetTable[i][0] and d_y == offsetTable[i][1]):\r\n",
    "#             id = i            \r\n",
    "#             break\r\n",
    "    \r\n",
    "#     while(True):\r\n",
    "#         if(id == 8):\r\n",
    "#             id = 0       \r\n",
    "#         c_x=B_x+offsetTable[id+1][0]\r\n",
    "#         c_y=B_y+offsetTable[id+1][1]        \r\n",
    "#         if (closed_image[c_x][c_y]!=0):\r\n",
    "#             B_x = c_x\r\n",
    "#             B_y = c_y                       \r\n",
    "#             temp = (B_x,B_y)           \r\n",
    "#             if (temp in B)==True:\r\n",
    "#                 count += 1\r\n",
    "#             B.append((B_x,B_y))\r\n",
    "#             d_x = prev_x-B_x\r\n",
    "#             d_y = prev_y-B_y\r\n",
    "#             break\r\n",
    "#         prev_x = c_x\r\n",
    "#         prev_y = c_y        \r\n",
    "#         id += 1\r\n",
    "# for pixel in range(len(B)):\r\n",
    "#       #contour[B[pixel][0]][B[pixel][1]] = [0,255,0]\r\n",
    "#       original_color_image2[B[pixel][0], B[pixel][1], 0] = 0\r\n",
    "#       original_color_image2[B[pixel][0], B[pixel][1], 1] = 255\r\n",
    "#       original_color_image2[B[pixel][0], B[pixel][1], 2] = 0"
   ],
   "outputs": [],
   "metadata": {}
  }
 ],
 "metadata": {
  "orig_nbformat": 4,
  "language_info": {
   "name": "python",
   "version": "3.9.6",
   "mimetype": "text/x-python",
   "codemirror_mode": {
    "name": "ipython",
    "version": 3
   },
   "pygments_lexer": "ipython3",
   "nbconvert_exporter": "python",
   "file_extension": ".py"
  },
  "kernelspec": {
   "name": "python3",
   "display_name": "Python 3.9.6 64-bit ('VDSL': venv)"
  },
  "interpreter": {
   "hash": "2a2479c102a19c2aa435c967297957ca3af9878caf51f6c6add409eabd45f418"
  }
 },
 "nbformat": 4,
 "nbformat_minor": 2
}